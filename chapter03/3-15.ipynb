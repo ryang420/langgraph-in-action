{
 "cells": [
  {
   "cell_type": "code",
   "execution_count": 10,
   "id": "e68bd399",
   "metadata": {},
   "outputs": [],
   "source": [
    "from langgraph.graph import StateGraph, MessagesState, START\n",
    "from IPython.display import Image, display\n",
    "from langgraph.types import Command\n",
    "from typing import Literal"
   ]
  },
  {
   "cell_type": "code",
   "execution_count": 28,
   "id": "436a2168",
   "metadata": {},
   "outputs": [],
   "source": [
    "class AgentState(MessagesState):\n",
    "    message: str\n",
    "    processed_data: str | None = None  # 可选字段，用于存储中间结果\n",
    "\n",
    "# 定义两个可路由的节点\n",
    "def node_a(state: AgentState):\n",
    "    print(\"✅ directed to node_a\")\n",
    "    return Command(\n",
    "        update={\"message\": \"This is node_a\"}\n",
    "    )\n",
    "\n",
    "\n",
    "def node_b(state: AgentState):\n",
    "    print(\"✅ directed to node_b\")\n",
    "    return Command(\n",
    "        update={\"message\": \"This is node_b\"}\n",
    "    )\n",
    "\n",
    "# 定义路由判断逻辑\n",
    "def decide_next_node(state: AgentState) -> Literal[\"node_a\", \"node_b\"]:\n",
    "    \"\"\"\n",
    "    根据 message 的内容决定下一个节点。\n",
    "    \"\"\"\n",
    "    if \"a\" in state.get(\"message\").lower():\n",
    "        return \"node_a\"\n",
    "    else:\n",
    "        return \"node_b\"\n",
    "\n",
    "# 定义路由节点（核心）\n",
    "def my_node(state: AgentState) -> Command[Literal[\"node_a\", \"node_b\"]]:\n",
    "    \"\"\"\n",
    "    根据当前状态决定跳转到 node_a 或 node_b。\n",
    "    \"\"\"\n",
    "    next_node_name = decide_next_node(state)\n",
    "    result_data = f\"Processed: {state.get(\"message\")}\"\n",
    "\n",
    "    return Command(\n",
    "        update={\"processed_data\": result_data},\n",
    "        goto=next_node_name\n",
    "    )"
   ]
  },
  {
   "cell_type": "code",
   "execution_count": 29,
   "id": "32441b0b",
   "metadata": {},
   "outputs": [
    {
     "data": {
      "image/png": "[encoded data removed]",
      "text/plain": [
       "<IPython.core.display.Image object>"
      ]
     },
     "metadata": {},
     "output_type": "display_data"
    },
    {
     "name": "stdout",
     "output_type": "stream",
     "text": [
      "\n",
      "--- 测试输入：包含 'a' ---\n",
      "✅ directed to node_a\n",
      "结果： {'messages': [], 'message': 'This is node_a', 'processed_data': 'Processed: apple'}\n",
      "\n",
      "--- 测试输入：不包含 'a' ---\n",
      "✅ directed to node_b\n",
      "结果： {'messages': [], 'message': 'This is node_b', 'processed_data': 'Processed: hello world'}\n"
     ]
    }
   ],
   "source": [
    "# ===== 构建 LangGraph =====\n",
    "def build_graph():\n",
    "    graph = StateGraph(AgentState)\n",
    "\n",
    "    # 添加节点\n",
    "    graph.add_node(\"my_node\", my_node)\n",
    "    graph.add_node(\"node_a\", node_a)\n",
    "    graph.add_node(\"node_b\", node_b)\n",
    "\n",
    "    # 设置入口节点\n",
    "    graph.add_edge(START, \"my_node\")\n",
    "\n",
    "    # 构建编译图\n",
    "    return graph.compile()\n",
    "\n",
    "\n",
    "# ===== 运行示例 =====\n",
    "if __name__ == \"__main__\":\n",
    "    app = build_graph()\n",
    "    display(Image(app.get_graph().draw_mermaid_png()))\n",
    "\n",
    "    # 输入1：含有 \"a\" → 路由到 node_a\n",
    "    print(\"\\n--- 测试输入：包含 'a' ---\")\n",
    "    result = app.invoke(AgentState(message=\"apple\"))\n",
    "    print(\"结果：\", result)\n",
    "\n",
    "    # 输入2：不含 \"a\" → 路由到 node_b\n",
    "    print(\"\\n--- 测试输入：不包含 'a' ---\")\n",
    "    result = app.invoke(AgentState(message=\"hello world\"))\n",
    "    print(\"结果：\", result)"
   ]
  }
 ],
 "metadata": {
  "kernelspec": {
   "display_name": ".venv",
   "language": "python",
   "name": "python3"
  },
  "language_info": {
   "codemirror_mode": {
    "name": "ipython",
    "version": 3
   },
   "file_extension": ".py",
   "mimetype": "text/x-python",
   "name": "python",
   "nbconvert_exporter": "python",
   "pygments_lexer": "ipython3",
   "version": "3.12.8"
  }
 },
 "nbformat": 4,
 "nbformat_minor": 5
}
