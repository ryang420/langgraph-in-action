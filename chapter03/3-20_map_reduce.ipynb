{
 "cells": [
  {
   "cell_type": "code",
   "execution_count": null,
   "id": "e68bd399",
   "metadata": {},
   "outputs": [
    {
     "data": {
      "image/png": "[encoded data removed]",
      "text/plain": [
       "<IPython.core.display.Image object>"
      ]
     },
     "metadata": {},
     "output_type": "display_data"
    },
    {
     "name": "stdout",
     "output_type": "stream",
     "text": [
      "Final state: {'large_input_data': [1, 2, 3, 4, 5, 6, 7, 8, 9, 10, 11, 12, 13, 14, 15, 16, 17, 18, 19, 20, 21, 22, 23, 24, 25, 26, 27, 28, 29, 30, 31, 32, 33, 34, 35, 36, 37, 38, 39, 40, 41, 42, 43, 44, 45, 46, 47, 48, 49, 50, 51, 52, 53, 54, 55, 56, 57, 58, 59, 60, 61, 62, 63, 64, 65, 66, 67, 68, 69, 70, 71, 72, 73, 74, 75, 76, 77, 78, 79, 80, 81, 82, 83, 84, 85, 86, 87, 88, 89, 90, 91, 92, 93, 94, 95, 96, 97, 98, 99, 100], 'intermediate_results': [55, 155, 255, 355, 455, 555, 655, 755, 855, 955], 'final_result': 5050}\n",
      "Final result: 5050\n"
     ]
    }
   ],
   "source": [
    "import operator\n",
    "from typing import Annotated, Any\n",
    "from typing_extensions import TypedDict\n",
    "from langgraph.graph import StateGraph, START, END\n",
    "from langgraph.types import Send\n",
    "from IPython.display import Image, display\n",
    "\n",
    "\n",
    "def split_large_data(data, num_sub_tasks: int = 10):\n",
    "    chunk_size = max(1, len(data) // num_sub_tasks)\n",
    "    return [data[i:i + chunk_size] for i in range(0, len(data), chunk_size)]\n",
    "\n",
    "def process_sub_data(sub_data):\n",
    "    return sum(sub_data)\n",
    "\n",
    "def aggregate_results(intermediate_results):\n",
    "    return sum(intermediate_results)\n",
    " \n",
    "# 全流程共享, 所有节点可访问\n",
    "class OverallState(TypedDict):\n",
    "    large_input_data: Any\n",
    "    intermediate_results: Annotated[list, operator.add]\n",
    "    final_result: Any\n",
    "\n",
    "\n",
    "def split_input_data(state: OverallState):\n",
    "    input_data = state[\"large_input_data\"]\n",
    "    sub_datasets = split_large_data(input_data, num_sub_tasks=10)\n",
    "    send_list = [Send(\"map_node\", {\"sub_data\": sub_dataset}) for sub_dataset in sub_datasets]\n",
    "    return {\"send\": send_list}\n",
    "\n",
    "\n",
    "class MapState(TypedDict):\n",
    "    sub_data: Any\n",
    "\n",
    "\n",
    "def map_node(state: MapState):\n",
    "    sub_data = state[\"sub_data\"]\n",
    "    intermediate_result = process_sub_data(sub_data)\n",
    "    # ✅ 返回 dict[str, list] 以支持 operator.add 聚合\n",
    "    return {\"intermediate_results\": [intermediate_result]}\n",
    "\n",
    "\n",
    "class ReduceState(TypedDict):\n",
    "    intermediate_results: Annotated[list, operator.add]\n",
    "\n",
    "\n",
    "def reduce_node(state: ReduceState):\n",
    "    intermediate_results = state[\"intermediate_results\"]\n",
    "    final_result = aggregate_results(intermediate_results)\n",
    "    return {\"final_result\": final_result}\n",
    "\n",
    "\n",
    "def build_graph():\n",
    "    graph = StateGraph(OverallState)\n",
    "\n",
    "    graph.add_node(\"split_node\", split_input_data)\n",
    "    graph.add_node(\"map_node\", map_node)\n",
    "    graph.add_node(\"reduce_node\", reduce_node)\n",
    "\n",
    "    # START 是固定的入口节点\n",
    "    graph.add_edge(START, \"split_node\")\n",
    "    graph.add_edge(\"map_node\", \"reduce_node\")\n",
    "    graph.add_edge(\"reduce_node\", END)\n",
    "\n",
    "    graph.add_conditional_edges(\n",
    "        \"split_node\",\n",
    "        lambda state: state[\"send\"],\n",
    "        [\"map_node\"],\n",
    "    ) # 分割节点 -》 映射节点（条件边）\n",
    "\n",
    "    return graph.compile()\n",
    "\n",
    "\n",
    "workflow = build_graph()\n",
    "\n",
    "display(Image(workflow.get_graph().draw_mermaid_png()))\n",
    "\n",
    "input_data = list(range(1, 101))\n",
    "final_state = workflow.invoke({\"large_input_data\": input_data})\n",
    "\n",
    "print(\"Final state:\", final_state)\n",
    "print(\"Final result:\", final_state[\"final_result\"])"
   ]
  }
 ],
 "metadata": {
  "kernelspec": {
   "display_name": ".venv",
   "language": "python",
   "name": "python3"
  },
  "language_info": {
   "codemirror_mode": {
    "name": "ipython",
    "version": 3
   },
   "file_extension": ".py",
   "mimetype": "text/x-python",
   "name": "python",
   "nbconvert_exporter": "python",
   "pygments_lexer": "ipython3",
   "version": "3.12.8"
  }
 },
 "nbformat": 4,
 "nbformat_minor": 5
}
