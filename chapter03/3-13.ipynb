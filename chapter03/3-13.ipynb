{
 "cells": [
  {
   "cell_type": "code",
   "execution_count": 1,
   "id": "37ccf92e",
   "metadata": {},
   "outputs": [],
   "source": [
    "import operator\n",
    "import os\n",
    "from re import A\n",
    "from typing import Annotated, Sequence, TypedDict\n",
    "from langgraph.graph import StateGraph, START, END, MessagesState\n",
    "from langchain_core.prompts import ChatPromptTemplate\n",
    "from langchain_openai import ChatOpenAI\n",
    "from langchain_core.messages import AIMessage, BaseMessage, HumanMessage\n",
    "from IPython.display import Image, display\n",
    "\n",
    "from dotenv import load_dotenv\n",
    "load_dotenv()\n",
    "\n",
    "API_KEY = os.getenv(\"OPENAI_API_KEY\")\n",
    "BASE_URL = os.getenv(\"BASE_URL\")"
   ]
  },
  {
   "cell_type": "code",
   "execution_count": 7,
   "id": "c40e42fe",
   "metadata": {},
   "outputs": [],
   "source": [
    "model = ChatOpenAI(\n",
    "    model=\"Qwen/Qwen2.5-7B-Instruct\",\n",
    "    api_key=API_KEY,\n",
    "    base_url=BASE_URL\n",
    ")\n",
    "\n",
    "class AgentState(TypedDict):\n",
    "    messages: Annotated[Sequence[BaseMessage], operator.add]\n",
    "    user_intent: str\n",
    "\n",
    "# === 1️⃣ 意图识别节点 ===\n",
    "def user_intent(state: AgentState):\n",
    "    user_message = state[\"messages\"][-1].content\n",
    "    prompt = ChatPromptTemplate.from_template(\"\"\"\n",
    "    You are an intent classification assistant.\n",
    "    Given the user message, classify it into one of these intents:\n",
    "    - query_wether\n",
    "    - book_ticket\n",
    "    - complain_service\n",
    "    If none apply, respond with \"unknown\".\n",
    "\n",
    "    User message: {message}\n",
    "    \"\"\")\n",
    "    chain = prompt | model\n",
    "    response = chain.invoke({\"message\": user_message})\n",
    "    intent = response.content.strip().lower()\n",
    "    return {\"messages\": [AIMessage(content=f\"Identified intent: {intent}\")], \"user_intent\": intent}\n",
    "\n",
    "def query_wether(state: AgentState):\n",
    "    whether_result = \"Today is sunny with a high of 25°C.\"\n",
    "    return {\"messages\": [AIMessage(content=whether_result)]}\n",
    "\n",
    "def book_ticket(state: AgentState):\n",
    "    booking_confirmation = \"Your ticket has been booked successfully.\"\n",
    "    return {\"messages\": [AIMessage(content=booking_confirmation)]}\n",
    "\n",
    "def complain_service(state: AgentState):\n",
    "    complaint_response = \"Your complaint has been registered. We will get back to you shortly.\"\n",
    "    return {\"messages\": [AIMessage(content=complaint_response)]}\n",
    "\n",
    "def route_to_skill(state: AgentState):\n",
    "    intent = state[\"user_intent\"]\n",
    "    if intent == \"query_wether\":\n",
    "        return \"query_wether\"\n",
    "    elif intent == \"book_ticket\":\n",
    "        return \"book_ticket\"\n",
    "    elif intent == \"complain_service\":\n",
    "        return \"complain_service\"\n",
    "    else:\n",
    "        return END"
   ]
  },
  {
   "cell_type": "code",
   "execution_count": 13,
   "id": "083ac085",
   "metadata": {},
   "outputs": [
    {
     "data": {
      "image/png": "[encoded data removed]",
      "text/plain": [
       "<IPython.core.display.Image object>"
      ]
     },
     "metadata": {},
     "output_type": "display_data"
    }
   ],
   "source": [
    "# 构建图\n",
    "builder = StateGraph(AgentState)\n",
    "builder.add_node(\"user_intent\", user_intent)\n",
    "builder.add_node(\"query_wether\", query_wether)\n",
    "builder.add_node(\"book_ticket\", book_ticket)\n",
    "builder.add_node(\"complain_service\", complain_service)\n",
    "\n",
    "builder.add_edge(START, \"user_intent\")\n",
    "builder.add_conditional_edges(\n",
    "    \"user_intent\",\n",
    "    route_to_skill,  # 决定下一个节点\n",
    "    {\n",
    "        \"query_wether\": \"query_wether\",\n",
    "        \"book_ticket\": \"book_ticket\",\n",
    "        \"complain_service\": \"complain_service\",\n",
    "        END: END\n",
    "    }\n",
    ")\n",
    "# 其他节点执行完后直接结束\n",
    "builder.add_edge(\"query_wether\", END)\n",
    "builder.add_edge(\"book_ticket\", END)\n",
    "builder.add_edge(\"complain_service\", END)\n",
    "\n",
    "graph = builder.compile()\n",
    "display(Image(graph.get_graph().draw_mermaid_png()))"
   ]
  },
  {
   "cell_type": "code",
   "execution_count": 14,
   "id": "4ff6bee2",
   "metadata": {},
   "outputs": [
    {
     "name": "stdout",
     "output_type": "stream",
     "text": [
      "Your ticket has been booked successfully.\n"
     ]
    }
   ],
   "source": [
    "result = graph.invoke({\"messages\": [HumanMessage(content=\"Help me book a flight\")]})\n",
    "print(result[\"messages\"][-1].content)"
   ]
  }
 ],
 "metadata": {
  "kernelspec": {
   "display_name": ".venv",
   "language": "python",
   "name": "python3"
  },
  "language_info": {
   "codemirror_mode": {
    "name": "ipython",
    "version": 3
   },
   "file_extension": ".py",
   "mimetype": "text/x-python",
   "name": "python",
   "nbconvert_exporter": "python",
   "pygments_lexer": "ipython3",
   "version": "3.12.8"
  }
 },
 "nbformat": 4,
 "nbformat_minor": 5
}
